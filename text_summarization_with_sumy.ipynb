{
  "nbformat": 4,
  "nbformat_minor": 0,
  "metadata": {
    "colab": {
      "provenance": [],
      "authorship_tag": "ABX9TyNP75p98vm/9QhKL0Eh7z5k",
      "include_colab_link": true
    },
    "kernelspec": {
      "name": "python3",
      "display_name": "Python 3"
    },
    "language_info": {
      "name": "python"
    }
  },
  "cells": [
    {
      "cell_type": "markdown",
      "metadata": {
        "id": "view-in-github",
        "colab_type": "text"
      },
      "source": [
        "<a href=\"https://colab.research.google.com/github/PatrykCiwinski/text_summarization/blob/main/text_summarization_with_sumy.ipynb\" target=\"_parent\"><img src=\"https://colab.research.google.com/assets/colab-badge.svg\" alt=\"Open In Colab\"/></a>"
      ]
    },
    {
      "cell_type": "code",
      "execution_count": null,
      "metadata": {
        "id": "WdrxAbatjWoF"
      },
      "outputs": [],
      "source": [
        "import pandas as pd\n",
        "import numpy as np\n",
        "import textwrap"
      ]
    },
    {
      "cell_type": "code",
      "execution_count": null,
      "metadata": {
        "id": "e0Fd8ZEOjVKU",
        "colab": {
          "base_uri": "https://localhost:8080/"
        },
        "outputId": "af0de64b-5459-4dcd-d62f-ab996a6681ee"
      },
      "outputs": [
        {
          "output_type": "stream",
          "name": "stdout",
          "text": [
            "--2023-06-24 14:01:35--  https://lazyprogrammer.me/course_files/nlp/bbc_text_cls.csv\n",
            "Resolving lazyprogrammer.me (lazyprogrammer.me)... 172.67.213.166, 104.21.23.210, 2606:4700:3030::ac43:d5a6, ...\n",
            "Connecting to lazyprogrammer.me (lazyprogrammer.me)|172.67.213.166|:443... connected.\n",
            "HTTP request sent, awaiting response... 200 OK\n",
            "Length: 5085081 (4.8M) [text/csv]\n",
            "Saving to: ‘bbc_text_cls.csv’\n",
            "\n",
            "bbc_text_cls.csv     61%[===========>        ]   3.00M  41.2KB/s    in 69s     \n",
            "\n",
            "2023-06-24 14:02:45 (44.7 KB/s) - Connection closed at byte 3143488. Retrying.\n",
            "\n",
            "--2023-06-24 14:02:46--  (try: 2)  https://lazyprogrammer.me/course_files/nlp/bbc_text_cls.csv\n",
            "Connecting to lazyprogrammer.me (lazyprogrammer.me)|172.67.213.166|:443... connected.\n",
            "HTTP request sent, awaiting response... 206 Partial Content\n",
            "Length: 5085081 (4.8M), 1941593 (1.9M) remaining [text/csv]\n",
            "Saving to: ‘bbc_text_cls.csv’\n",
            "\n",
            "bbc_text_cls.csv    100%[++++++++++++=======>]   4.85M  1.86MB/s    in 1.0s    \n",
            "\n",
            "2023-06-24 14:02:55 (1.86 MB/s) - ‘bbc_text_cls.csv’ saved [5085081/5085081]\n",
            "\n"
          ]
        }
      ],
      "source": [
        "!wget -nc https://lazyprogrammer.me/course_files/nlp/bbc_text_cls.csv"
      ]
    },
    {
      "cell_type": "code",
      "source": [
        "def wrap(x):\n",
        "  return textwrap.fill(x,replace_whitespace=False,fix_sentence_endings=True)"
      ],
      "metadata": {
        "id": "w5Uubmuj328K"
      },
      "execution_count": null,
      "outputs": []
    },
    {
      "cell_type": "markdown",
      "source": [
        "##Automatic Text Summarization"
      ],
      "metadata": {
        "id": "mu0HdXoSvzcy"
      }
    },
    {
      "cell_type": "code",
      "source": [
        "!pip install sumy"
      ],
      "metadata": {
        "id": "uj8-DDfEuUyk",
        "colab": {
          "base_uri": "https://localhost:8080/"
        },
        "outputId": "bc14c632-8961-4130-8c6d-626495cc2e75"
      },
      "execution_count": 15,
      "outputs": [
        {
          "output_type": "stream",
          "name": "stdout",
          "text": [
            "Installing collected packages: docopt, pycountry, breadability, sumy\n",
            "Successfully installed breadability-0.1.20 docopt-0.6.2 pycountry-22.3.5 sumy-0.11.0\n"
          ]
        }
      ]
    },
    {
      "cell_type": "code",
      "source": [
        "from sumy.summarizers.text_rank import TextRankSummarizer\n",
        "from sumy.summarizers.lsa import LsaSummarizer\n",
        "from sumy.parsers.plaintext import PlaintextParser\n",
        "from sumy.nlp.tokenizers import Tokenizer"
      ],
      "metadata": {
        "id": "Vww8KSrfv88I"
      },
      "execution_count": 18,
      "outputs": []
    },
    {
      "cell_type": "code",
      "execution_count": null,
      "metadata": {
        "id": "geg2u6ZNko-L"
      },
      "outputs": [],
      "source": [
        "df=pd.read_csv('bbc_text_cls.csv')"
      ]
    },
    {
      "cell_type": "code",
      "source": [
        "doc = df[df.labels=='entertainment']['text']"
      ],
      "metadata": {
        "id": "EsCrR_3cuLCb"
      },
      "execution_count": 33,
      "outputs": []
    },
    {
      "cell_type": "code",
      "source": [
        "doc"
      ],
      "metadata": {
        "colab": {
          "base_uri": "https://localhost:8080/"
        },
        "id": "ddCWpgyezGfh",
        "outputId": "edc9a8b3-637e-49c8-e67a-ee1e3f04e78b"
      },
      "execution_count": 34,
      "outputs": [
        {
          "output_type": "execute_result",
          "data": {
            "text/plain": [
              "510    Gallery unveils interactive tree\\n\\nA Christma...\n",
              "511    Jarre joins fairytale celebration\\n\\nFrench mu...\n",
              "512    Musical treatment for Capra film\\n\\nThe classi...\n",
              "513    Richard and Judy choose top books\\n\\nThe 10 au...\n",
              "514    Poppins musical gets flying start\\n\\nThe stage...\n",
              "                             ...                        \n",
              "891    Last Star Wars 'not for children'\\n\\nThe sixth...\n",
              "892    French honour for director Parker\\n\\nBritish f...\n",
              "893    Robots march to US cinema summit\\n\\nAnimated m...\n",
              "894    Hobbit picture 'four years away'\\n\\nLord of th...\n",
              "895    Buffy creator joins Wonder Woman\\n\\nThe creato...\n",
              "Name: text, Length: 386, dtype: object"
            ]
          },
          "metadata": {},
          "execution_count": 34
        }
      ]
    },
    {
      "cell_type": "code",
      "source": [
        "sents=doc.iloc[0].split('\\n',1)[1]"
      ],
      "metadata": {
        "id": "BMYgWK8guQKv"
      },
      "execution_count": 35,
      "outputs": []
    },
    {
      "cell_type": "code",
      "source": [
        "summarizer = TextRankSummarizer()\n",
        "parser = PlaintextParser.from_string(sents,Tokenizer('english'))\n",
        "summary = summarizer(parser.document, sentences_count=5)"
      ],
      "metadata": {
        "id": "Naj1d7D4wLHC"
      },
      "execution_count": 36,
      "outputs": []
    },
    {
      "cell_type": "code",
      "source": [
        "summary"
      ],
      "metadata": {
        "colab": {
          "base_uri": "https://localhost:8080/"
        },
        "id": "hXb2BgXmytmC",
        "outputId": "d8962f02-c4ac-4b58-93a4-631bfedfc456"
      },
      "execution_count": 37,
      "outputs": [
        {
          "output_type": "execute_result",
          "data": {
            "text/plain": [
              "(<Sentence: The spruce has an antenna which can receive Bluetooth texts sent by visitors to the Tate.>,\n",
              " <Sentence: The messages will be \"unwrapped\" by sculptor Richard Wentworth, who is responsible for decorating the tree with broken plates and light bulbs.>,\n",
              " <Sentence: It is the 17th year that the gallery has invited an artist to dress their Christmas tree.>,\n",
              " <Sentence: The plates decorating the branches will be auctioned off for the children's charity ArtWorks.>,\n",
              " <Sentence: His reputation as a sculptor grew in the 1980s, while he has been one of the most influential teachers during the last two decades.>)"
            ]
          },
          "metadata": {},
          "execution_count": 37
        }
      ]
    },
    {
      "cell_type": "code",
      "source": [
        "for s in summary:\n",
        "  print(wrap(str(s)))"
      ],
      "metadata": {
        "colab": {
          "base_uri": "https://localhost:8080/"
        },
        "id": "jcpL41OkyuuT",
        "outputId": "16d73b8f-3a72-4213-cbbf-a447ef9d9eeb"
      },
      "execution_count": 38,
      "outputs": [
        {
          "output_type": "stream",
          "name": "stdout",
          "text": [
            "The spruce has an antenna which can receive Bluetooth texts sent by\n",
            "visitors to the Tate.\n",
            "The messages will be \"unwrapped\" by sculptor Richard Wentworth, who is\n",
            "responsible for decorating the tree with broken plates and light\n",
            "bulbs.\n",
            "It is the 17th year that the gallery has invited an artist to dress\n",
            "their Christmas tree.\n",
            "The plates decorating the branches will be auctioned off for the\n",
            "children's charity ArtWorks.\n",
            "His reputation as a sculptor grew in the 1980s, while he has been one\n",
            "of the most influential teachers during the last two decades.\n"
          ]
        }
      ]
    },
    {
      "cell_type": "markdown",
      "source": [
        "##Latent Semantic Analysis for text summarization"
      ],
      "metadata": {
        "id": "46MwrRzF0Hfy"
      }
    },
    {
      "cell_type": "code",
      "source": [
        "summarizer = LsaSummarizer()\n",
        "summary = summarizer(parser.document,sentences_count=5)"
      ],
      "metadata": {
        "id": "iyfLWPPez1s1"
      },
      "execution_count": 39,
      "outputs": []
    },
    {
      "cell_type": "code",
      "source": [
        "for s in summary:\n",
        "  print(wrap(str(s)))"
      ],
      "metadata": {
        "colab": {
          "base_uri": "https://localhost:8080/"
        },
        "id": "zrdl1uAZ0bh8",
        "outputId": "fafc027e-6ccc-49df-c41f-83f985d09294"
      },
      "execution_count": 40,
      "outputs": [
        {
          "output_type": "stream",
          "name": "stdout",
          "text": [
            "A Christmas tree that can receive text messages has been unveiled at\n",
            "London's Tate Britain art gallery.\n",
            "The messages will be \"unwrapped\" by sculptor Richard Wentworth, who is\n",
            "responsible for decorating the tree with broken plates and light\n",
            "bulbs.\n",
            "Its light bulb adornments are dimmed, ordinary domestic ones joined\n",
            "together with string.\n",
            "Wentworth worked as an assistant to sculptor Henry Moore in the late\n",
            "1960s.\n",
            "Wentworth is also known for his photography of mundane, everyday\n",
            "subjects such as a cigarette packet jammed under the wonky leg of a\n",
            "table.\n"
          ]
        }
      ]
    }
  ]
}