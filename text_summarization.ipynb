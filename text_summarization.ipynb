{
  "cells": [
    {
      "cell_type": "markdown",
      "metadata": {
        "id": "view-in-github",
        "colab_type": "text"
      },
      "source": [
        "<a href=\"https://colab.research.google.com/github/PatrykCiwinski/text_sum_and_TextRank/blob/main/text_summarization.ipynb\" target=\"_parent\"><img src=\"https://colab.research.google.com/assets/colab-badge.svg\" alt=\"Open In Colab\"/></a>"
      ]
    },
    {
      "cell_type": "code",
      "execution_count": 137,
      "metadata": {
        "id": "WdrxAbatjWoF"
      },
      "outputs": [],
      "source": [
        "import pandas as pd\n",
        "import numpy as np\n",
        "import textwrap\n",
        "import nltk\n",
        "from nltk.corpus import stopwords\n",
        "from nltk import word_tokenize\n",
        "from nltk.stem import WordNetLemmatizer, PorterStemmer\n",
        "from sklearn.feature_extraction.text import TfidfVectorizer"
      ]
    },
    {
      "cell_type": "code",
      "execution_count": 138,
      "metadata": {
        "colab": {
          "base_uri": "https://localhost:8080/"
        },
        "id": "Veqx41mxj_fO",
        "outputId": "45596064-821c-4633-864d-4bac451e0226"
      },
      "outputs": [
        {
          "output_type": "stream",
          "name": "stderr",
          "text": [
            "[nltk_data] Downloading package punkt to /root/nltk_data...\n",
            "[nltk_data]   Package punkt is already up-to-date!\n"
          ]
        },
        {
          "output_type": "execute_result",
          "data": {
            "text/plain": [
              "True"
            ]
          },
          "metadata": {},
          "execution_count": 138
        }
      ],
      "source": [
        "nltk.download('punkt')"
      ]
    },
    {
      "cell_type": "code",
      "execution_count": 139,
      "metadata": {
        "colab": {
          "base_uri": "https://localhost:8080/"
        },
        "id": "FVltxqbPkGp4",
        "outputId": "0b1eef4e-ed43-46b7-8030-1746cebed657"
      },
      "outputs": [
        {
          "output_type": "stream",
          "name": "stderr",
          "text": [
            "[nltk_data] Downloading package stopwords to /root/nltk_data...\n",
            "[nltk_data]   Package stopwords is already up-to-date!\n"
          ]
        },
        {
          "output_type": "execute_result",
          "data": {
            "text/plain": [
              "True"
            ]
          },
          "metadata": {},
          "execution_count": 139
        }
      ],
      "source": [
        "nltk.download('stopwords')"
      ]
    },
    {
      "cell_type": "code",
      "execution_count": 140,
      "metadata": {
        "id": "e0Fd8ZEOjVKU",
        "colab": {
          "base_uri": "https://localhost:8080/"
        },
        "outputId": "d93b8dc3-5d25-4d7a-92c6-4bb5bea9ba47"
      },
      "outputs": [
        {
          "output_type": "stream",
          "name": "stdout",
          "text": [
            "File ‘bbc_text_cls.csv’ already there; not retrieving.\n",
            "\n"
          ]
        }
      ],
      "source": [
        "!wget -nc https://lazyprogrammer.me/course_files/nlp/bbc_text_cls.csv"
      ]
    },
    {
      "cell_type": "code",
      "source": [
        "vectorizer=TfidfVectorizer(stop_words=stopwords.words('english'))"
      ],
      "metadata": {
        "id": "Z9UN6dPa18g4"
      },
      "execution_count": 143,
      "outputs": []
    },
    {
      "cell_type": "code",
      "source": [
        "def wrap(x):\n",
        "  return textwrap.fill(x,replace_whitespace=False,fix_sentence_endings=True)"
      ],
      "metadata": {
        "id": "w5Uubmuj328K"
      },
      "execution_count": 145,
      "outputs": []
    },
    {
      "cell_type": "code",
      "source": [
        "def sentence_score(tfidf_row):\n",
        "  #return mean of non-zero values of tf-idf representation of sentence\n",
        "  x = tfidf_row[tfidf_row != 0]\n",
        "  return x.mean()"
      ],
      "metadata": {
        "id": "2OazklDQ25I2"
      },
      "execution_count": 144,
      "outputs": []
    },
    {
      "cell_type": "code",
      "execution_count": 141,
      "metadata": {
        "id": "geg2u6ZNko-L"
      },
      "outputs": [],
      "source": [
        "df=pd.read_csv('bbc_text_cls.csv')"
      ]
    },
    {
      "cell_type": "code",
      "execution_count": 146,
      "metadata": {
        "id": "ezFJplr3lWQZ"
      },
      "outputs": [],
      "source": [
        "def summary(text):\n",
        "  #extract sentences from document\n",
        "  sents=nltk.sent_tokenize(text)\n",
        "\n",
        "  #tfidf matrix\n",
        "  X = vectorizer.fit_transform(sents)\n",
        "\n",
        "  #Compute scores for evry sentence\n",
        "  scores=np.zeros(len(sents)) # initializing score array\n",
        "  for i in range(len(sents)):\n",
        "    score=sentence_score(X[i,:])\n",
        "    scores[i] = score\n",
        "\n",
        "  #sorting scores\n",
        "  sorted_scores=np.argsort(-scores)\n",
        "\n",
        "  #printing summary\n",
        "  for i in sorted_scores[:5]:\n",
        "    print(wrap('%.2f: %s' % (scores[i], sents[i])))\n",
        "\n"
      ]
    },
    {
      "cell_type": "code",
      "source": [],
      "metadata": {
        "id": "4SfKctP-4rZX"
      },
      "execution_count": null,
      "outputs": []
    },
    {
      "cell_type": "code",
      "source": [
        "doc = df[df.labels=='entertainment']['text'].sample(random_state=123)"
      ],
      "metadata": {
        "id": "x6OVTrgN4b2k"
      },
      "execution_count": 149,
      "outputs": []
    },
    {
      "cell_type": "code",
      "source": [
        "summary(doc.iloc[0].split('\\n',1)[1]) # get rid of article title"
      ],
      "metadata": {
        "colab": {
          "base_uri": "https://localhost:8080/"
        },
        "id": "r2GY_hGC4pZD",
        "outputId": "1d5fe69f-4413-40f0-a5dc-de332456c16b"
      },
      "execution_count": 151,
      "outputs": [
        {
          "output_type": "stream",
          "name": "stdout",
          "text": [
            "0.32: The Black Eyed Peas won awards for best R 'n' B video and\n",
            "sexiest video, both for Hey Mama.\n",
            "0.32: The ceremony was held at the Luna Park fairground in Sydney\n",
            "Harbour and was hosted by the Osbourne family.\n",
            "0.31: Goodrem, Green Day and the Black Eyed Peas took home two awards\n",
            "each.\n",
            "0.31: Other winners included Green Day, voted best group, and the\n",
            "Black Eyed Peas.\n",
            "0.31: The VH1 First Music Award went to Cher honouring her\n",
            "achievements within the music industry.\n"
          ]
        }
      ]
    },
    {
      "cell_type": "code",
      "source": [],
      "metadata": {
        "id": "HrFafhQ74qKO"
      },
      "execution_count": null,
      "outputs": []
    }
  ],
  "metadata": {
    "colab": {
      "provenance": [],
      "authorship_tag": "ABX9TyOfakjEJ50ipDo1xEfuLhIh",
      "include_colab_link": true
    },
    "kernelspec": {
      "display_name": "Python 3",
      "name": "python3"
    },
    "language_info": {
      "name": "python"
    }
  },
  "nbformat": 4,
  "nbformat_minor": 0
}